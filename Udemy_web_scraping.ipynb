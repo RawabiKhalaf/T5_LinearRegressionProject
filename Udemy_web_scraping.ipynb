{
 "cells": [
  {
   "cell_type": "markdown",
   "id": "37de871f",
   "metadata": {},
   "source": [
    "# Import packages "
   ]
  },
  {
   "cell_type": "code",
   "execution_count": 1,
   "id": "44ca5878",
   "metadata": {},
   "outputs": [],
   "source": [
    "from selenium import webdriver\n",
    "from bs4 import BeautifulSoup\n",
    "import requests\n",
    "import time \n",
    "import os\n",
    "import pandas as pd\n",
    "\n",
    "chromedriver = \"/Applications/chromedriver\"\n",
    "os.environ[\"webdriver.chrome.driver\"] = chromedriver"
   ]
  },
  {
   "cell_type": "code",
   "execution_count": 2,
   "id": "78b4cd1a",
   "metadata": {},
   "outputs": [],
   "source": [
    "url = 'https://www.udemy.com/courses/marketing/'\n",
    "page = requests.get(url).text\n",
    "soup = BeautifulSoup(page, 'lxml')\n",
    "driver = webdriver.Chrome(executable_path=chromedriver)\n",
    "driver.get(url)"
   ]
  },
  {
   "cell_type": "markdown",
   "id": "6ae776b1",
   "metadata": {},
   "source": [
    "# Perform web Scraping "
   ]
  },
  {
   "cell_type": "code",
   "execution_count": 3,
   "id": "cb8fa66f",
   "metadata": {},
   "outputs": [],
   "source": [
    "def extract_record(item):\n",
    "    try :\n",
    "        title = item.find('div',{'class':'udlite-focus-visible-target udlite-heading-md course-card--course-title--vVEjC'}).text\n",
    "    except :\n",
    "        title = None\n",
    "    try :\n",
    "        description = item.find('p',{'class':'udlite-text-sm course-card--course-headline--2DAqq'}).text\n",
    "    except :\n",
    "        description = None\n",
    "    try :\n",
    "        price = item.find('div', {'class':'price-text--price-part--2npPm course-card--discount-price--1bQ5Q udlite-heading-md'}).text \n",
    "    except :\n",
    "        price = None\n",
    "    try :\n",
    "        rating = item.find('span',{'class':'star-rating--star-wrapper--1QyBg'}).find('span').text\n",
    "    except :\n",
    "        rating = None\n",
    "    try :\n",
    "        reviews = item.find('span',{'class':'udlite-text-xs course-card--reviews-text--1yloi'}).text\n",
    "    except :\n",
    "        reviews = None\n",
    "    \n",
    "    if item.find('s') == None :\n",
    "        discount = None\n",
    "    else :\n",
    "        discount = item.find('s').find('span').text\n",
    "    try :\n",
    "        trainer = item.find('div',{'class':'udlite-text-xs course-card--instructor-list--nH1OC'}).text\n",
    "    except :\n",
    "        trainer = None\n",
    "    course_info = item.find('div',{'class':'udlite-text-xs course-card--row--29Y0w course-card--course-meta-info--2jTzN'}).find_all('span')\n",
    "    \n",
    "    if len(course_info) == 3 :\n",
    "        total_hours = course_info[0].text\n",
    "        total_lectures = course_info[1].text\n",
    "        level = course_info[2].text\n",
    "    else :\n",
    "        total_hours = None\n",
    "        total_lectures = None\n",
    "        try:\n",
    "            level = course_info[1].text\n",
    "        except :\n",
    "            level = None\n",
    "    \n",
    "    result = (title,description,price,rating,reviews,discount,trainer,total_hours,total_lectures,level) \n",
    "    \n",
    "    \n",
    "    return result"
   ]
  },
  {
   "cell_type": "code",
   "execution_count": 5,
   "id": "549535e3",
   "metadata": {
    "scrolled": false
   },
   "outputs": [],
   "source": [
    "def get_data() :\n",
    "    records=[]\n",
    "\n",
    "    for i in range(1,600):\n",
    "        url = 'https://www.udemy.com/courses/marketing/?p='+str(i)\n",
    "\n",
    "        print(url)\n",
    "        driver.get(url)\n",
    "        time.sleep(5)\n",
    "        soup = BeautifulSoup(driver.page_source, \"html5lib\")\n",
    "\n",
    "       \n",
    "        div = soup.find(class_='course-list--container--3zXPS')\n",
    "        results = div.find_all('a',{'class':'udlite-custom-focus-visible browse-course-card--link--3KIkQ'})\n",
    "        \n",
    "        \n",
    "        \n",
    "        for item in results:\n",
    "            records.append(extract_record(item))\n",
    "        time.sleep(5)\n",
    "        \n",
    "    return records\n",
    "    "
   ]
  },
  {
   "cell_type": "code",
   "execution_count": 1,
   "id": "b2c82a76",
   "metadata": {},
   "outputs": [],
   "source": [
    "records = get_data()"
   ]
  },
  {
   "cell_type": "markdown",
   "id": "30b0bfac",
   "metadata": {},
   "source": [
    "# Definig the data frame "
   ]
  },
  {
   "cell_type": "code",
   "execution_count": 7,
   "id": "733b7a9e",
   "metadata": {},
   "outputs": [],
   "source": [
    "df = pd.DataFrame(records, columns=['title','description','price','rating','reviews',\n",
    "                                    'discount','trainer','total_hours','total_lectures',\n",
    "                                    'level'])"
   ]
  },
  {
   "cell_type": "code",
   "execution_count": 44,
   "id": "8ee9f623",
   "metadata": {
    "scrolled": true
   },
   "outputs": [
    {
     "name": "stdout",
     "output_type": "stream",
     "text": [
      "<class 'pandas.core.frame.DataFrame'>\n",
      "Int64Index: 7684 entries, 0 to 9899\n",
      "Data columns (total 10 columns):\n",
      " #   Column          Non-Null Count  Dtype  \n",
      "---  ------          --------------  -----  \n",
      " 0   title           7684 non-null   object \n",
      " 1   description     7684 non-null   object \n",
      " 2   price           7684 non-null   float64\n",
      " 3   rating          7684 non-null   float64\n",
      " 4   reviews         7684 non-null   int64  \n",
      " 5   discount        7684 non-null   float64\n",
      " 6   trainer         7683 non-null   object \n",
      " 7   total_hours     7684 non-null   float64\n",
      " 8   total_lectures  7684 non-null   int64  \n",
      " 9   level           7684 non-null   object \n",
      "dtypes: float64(4), int64(2), object(4)\n",
      "memory usage: 660.3+ KB\n"
     ]
    }
   ],
   "source": [
    "df.info()"
   ]
  },
  {
   "cell_type": "code",
   "execution_count": 23,
   "id": "e9c76888",
   "metadata": {},
   "outputs": [],
   "source": [
    "#df.to_csv('udemy_data_9k.csv')"
   ]
  },
  {
   "cell_type": "markdown",
   "id": "1810dac5",
   "metadata": {},
   "source": [
    "# Data cleaning "
   ]
  },
  {
   "cell_type": "code",
   "execution_count": null,
   "id": "702540f5",
   "metadata": {},
   "outputs": [],
   "source": [
    "df.columns"
   ]
  },
  {
   "cell_type": "code",
   "execution_count": 48,
   "id": "abb60111",
   "metadata": {},
   "outputs": [],
   "source": [
    "df.drop(columns=\"Unnamed: 0\",inplace=True)"
   ]
  },
  {
   "cell_type": "code",
   "execution_count": 49,
   "id": "181c5b34",
   "metadata": {
    "scrolled": true
   },
   "outputs": [
    {
     "name": "stdout",
     "output_type": "stream",
     "text": [
      "<class 'pandas.core.frame.DataFrame'>\n",
      "RangeIndex: 9904 entries, 0 to 9903\n",
      "Data columns (total 10 columns):\n",
      " #   Column          Non-Null Count  Dtype \n",
      "---  ------          --------------  ----- \n",
      " 0   title           9904 non-null   object\n",
      " 1   description     9903 non-null   object\n",
      " 2   price           9833 non-null   object\n",
      " 3   rating          9904 non-null   object\n",
      " 4   reviews         9904 non-null   object\n",
      " 5   discount        9289 non-null   object\n",
      " 6   trainer         9904 non-null   object\n",
      " 7   total_hours     8229 non-null   object\n",
      " 8   total_lectures  8229 non-null   object\n",
      " 9   level           9904 non-null   object\n",
      "dtypes: object(10)\n",
      "memory usage: 773.9+ KB\n"
     ]
    }
   ],
   "source": [
    "df.info()"
   ]
  },
  {
   "cell_type": "code",
   "execution_count": 50,
   "id": "8f45c193",
   "metadata": {
    "scrolled": false
   },
   "outputs": [],
   "source": [
    "df.dropna(inplace=True)"
   ]
  },
  {
   "cell_type": "code",
   "execution_count": 51,
   "id": "87f13c04",
   "metadata": {},
   "outputs": [],
   "source": [
    "df.trainer = df.trainer.str.replace(',','')"
   ]
  },
  {
   "cell_type": "code",
   "execution_count": 52,
   "id": "f971d505",
   "metadata": {},
   "outputs": [],
   "source": [
    "df.trainer = df.trainer.str.split().str[0] +' '+ df.trainer.str.split().str[1]"
   ]
  },
  {
   "cell_type": "code",
   "execution_count": 53,
   "id": "db1b3aca",
   "metadata": {},
   "outputs": [],
   "source": [
    "import re\n",
    "def find_number(text):\n",
    "    num = re.findall(r'[0-9]+',text)\n",
    "    return \"\".join(num)\n",
    "def find_rating(text):\n",
    "    num = re.findall(r'[0-9]+',text)\n",
    "    num.pop()\n",
    "    return \".\".join(num)"
   ]
  },
  {
   "cell_type": "code",
   "execution_count": 54,
   "id": "90a9651e",
   "metadata": {},
   "outputs": [],
   "source": [
    "df.reviews = df['reviews'].apply(lambda x: find_number(x)).astype(int)"
   ]
  },
  {
   "cell_type": "code",
   "execution_count": 55,
   "id": "9babfb05",
   "metadata": {},
   "outputs": [],
   "source": [
    "df.rating = df['rating'].apply(lambda x: find_rating(x)).astype(float)"
   ]
  },
  {
   "cell_type": "code",
   "execution_count": 56,
   "id": "47c5e95e",
   "metadata": {},
   "outputs": [],
   "source": [
    "df.total_hours = df['total_hours'].str.extract(r'(\\d+.\\d*)').astype('float')"
   ]
  },
  {
   "cell_type": "code",
   "execution_count": 57,
   "id": "963fcf49",
   "metadata": {},
   "outputs": [],
   "source": [
    "df.discount = df['discount'].str.extract(r'(\\d+.\\d*)').astype('float')"
   ]
  },
  {
   "cell_type": "code",
   "execution_count": 58,
   "id": "754dae8f",
   "metadata": {},
   "outputs": [],
   "source": [
    "df.total_lectures = df['total_lectures'].apply(lambda x: find_number(x)).astype(int)"
   ]
  },
  {
   "cell_type": "code",
   "execution_count": 59,
   "id": "6437ac54",
   "metadata": {},
   "outputs": [],
   "source": [
    "df.price = df['price'].str.extract(r'(\\d+.\\d*)').astype('float')"
   ]
  },
  {
   "cell_type": "code",
   "execution_count": 60,
   "id": "826c3561",
   "metadata": {},
   "outputs": [
    {
     "data": {
      "text/plain": [
       "array(['All Levels', 'Beginner', 'Intermediate', 'Expert'], dtype=object)"
      ]
     },
     "execution_count": 60,
     "metadata": {},
     "output_type": "execute_result"
    }
   ],
   "source": [
    "df.level.unique()"
   ]
  },
  {
   "cell_type": "code",
   "execution_count": 61,
   "id": "95273dc5",
   "metadata": {},
   "outputs": [],
   "source": [
    "df.to_csv('cleaned_udemy_data_9k.csv')"
   ]
  },
  {
   "cell_type": "code",
   "execution_count": 62,
   "id": "b0159aa1",
   "metadata": {},
   "outputs": [
    {
     "data": {
      "text/html": [
       "<div>\n",
       "<style scoped>\n",
       "    .dataframe tbody tr th:only-of-type {\n",
       "        vertical-align: middle;\n",
       "    }\n",
       "\n",
       "    .dataframe tbody tr th {\n",
       "        vertical-align: top;\n",
       "    }\n",
       "\n",
       "    .dataframe thead th {\n",
       "        text-align: right;\n",
       "    }\n",
       "</style>\n",
       "<table border=\"1\" class=\"dataframe\">\n",
       "  <thead>\n",
       "    <tr style=\"text-align: right;\">\n",
       "      <th></th>\n",
       "      <th>title</th>\n",
       "      <th>description</th>\n",
       "      <th>price</th>\n",
       "      <th>rating</th>\n",
       "      <th>reviews</th>\n",
       "      <th>discount</th>\n",
       "      <th>trainer</th>\n",
       "      <th>total_hours</th>\n",
       "      <th>total_lectures</th>\n",
       "      <th>level</th>\n",
       "    </tr>\n",
       "  </thead>\n",
       "  <tbody>\n",
       "    <tr>\n",
       "      <th>0</th>\n",
       "      <td>Learn Ethical Hacking From Scratch</td>\n",
       "      <td>Become an ethical hacker that can hack compute...</td>\n",
       "      <td>17.99</td>\n",
       "      <td>4.6</td>\n",
       "      <td>98659</td>\n",
       "      <td>99.99</td>\n",
       "      <td>Zaid Sabih</td>\n",
       "      <td>15.5</td>\n",
       "      <td>143</td>\n",
       "      <td>All Levels</td>\n",
       "    </tr>\n",
       "    <tr>\n",
       "      <th>1</th>\n",
       "      <td>Ultimate AWS Certified Solutions Architect Ass...</td>\n",
       "      <td>Pass the AWS Certified Solutions Architect Ass...</td>\n",
       "      <td>15.99</td>\n",
       "      <td>4.7</td>\n",
       "      <td>95644</td>\n",
       "      <td>89.99</td>\n",
       "      <td>Stephane Maarek</td>\n",
       "      <td>27.0</td>\n",
       "      <td>368</td>\n",
       "      <td>All Levels</td>\n",
       "    </tr>\n",
       "    <tr>\n",
       "      <th>2</th>\n",
       "      <td>[NEW] Ultimate AWS Certified Cloud Practitione...</td>\n",
       "      <td>Pass the Amazon Web Services Certified Cloud P...</td>\n",
       "      <td>14.99</td>\n",
       "      <td>4.7</td>\n",
       "      <td>61639</td>\n",
       "      <td>84.99</td>\n",
       "      <td>Stephane Maarek</td>\n",
       "      <td>14.0</td>\n",
       "      <td>252</td>\n",
       "      <td>Beginner</td>\n",
       "    </tr>\n",
       "    <tr>\n",
       "      <th>3</th>\n",
       "      <td>TOTAL: CompTIA A+ Certification (220-1001).</td>\n",
       "      <td>Course 1: Everything you need to pass the A+ C...</td>\n",
       "      <td>20.99</td>\n",
       "      <td>4.7</td>\n",
       "      <td>48503</td>\n",
       "      <td>119.99</td>\n",
       "      <td>Total Seminars</td>\n",
       "      <td>17.5</td>\n",
       "      <td>131</td>\n",
       "      <td>Beginner</td>\n",
       "    </tr>\n",
       "    <tr>\n",
       "      <th>4</th>\n",
       "      <td>Ultimate AWS Certified Developer Associate 202...</td>\n",
       "      <td>Become an AWS Certified Developer! Learn all A...</td>\n",
       "      <td>14.99</td>\n",
       "      <td>4.7</td>\n",
       "      <td>47458</td>\n",
       "      <td>89.99</td>\n",
       "      <td>Stephane Maarek</td>\n",
       "      <td>32.5</td>\n",
       "      <td>428</td>\n",
       "      <td>All Levels</td>\n",
       "    </tr>\n",
       "    <tr>\n",
       "      <th>...</th>\n",
       "      <td>...</td>\n",
       "      <td>...</td>\n",
       "      <td>...</td>\n",
       "      <td>...</td>\n",
       "      <td>...</td>\n",
       "      <td>...</td>\n",
       "      <td>...</td>\n",
       "      <td>...</td>\n",
       "      <td>...</td>\n",
       "      <td>...</td>\n",
       "    </tr>\n",
       "    <tr>\n",
       "      <th>9891</th>\n",
       "      <td>Reverse Engineering Deep Dive</td>\n",
       "      <td>Deobfuscations, disassembly, shellcode analysi...</td>\n",
       "      <td>14.99</td>\n",
       "      <td>3.6</td>\n",
       "      <td>7</td>\n",
       "      <td>89.99</td>\n",
       "      <td>Cristina Gheorghisan</td>\n",
       "      <td>6.0</td>\n",
       "      <td>36</td>\n",
       "      <td>Intermediate</td>\n",
       "    </tr>\n",
       "    <tr>\n",
       "      <th>9892</th>\n",
       "      <td>Achieving NSA level privacy</td>\n",
       "      <td>This course will help you to be totally anonym...</td>\n",
       "      <td>14.99</td>\n",
       "      <td>5.0</td>\n",
       "      <td>7</td>\n",
       "      <td>49.99</td>\n",
       "      <td>Lakshay arora</td>\n",
       "      <td>1.0</td>\n",
       "      <td>16</td>\n",
       "      <td>All Levels</td>\n",
       "    </tr>\n",
       "    <tr>\n",
       "      <th>9896</th>\n",
       "      <td>Migrating a DFS-R Deployment to Azure File Sync</td>\n",
       "      <td>How to Deploy Azure File Sync and Migrate from...</td>\n",
       "      <td>14.99</td>\n",
       "      <td>4.5</td>\n",
       "      <td>7</td>\n",
       "      <td>19.99</td>\n",
       "      <td>Thomas Mitchell</td>\n",
       "      <td>1.0</td>\n",
       "      <td>18</td>\n",
       "      <td>Intermediate</td>\n",
       "    </tr>\n",
       "    <tr>\n",
       "      <th>9897</th>\n",
       "      <td>Internet of Things (IoT) Fundamentals Certific...</td>\n",
       "      <td>Become an IoT Engineer / Product Manager. Lear...</td>\n",
       "      <td>14.99</td>\n",
       "      <td>3.2</td>\n",
       "      <td>7</td>\n",
       "      <td>19.99</td>\n",
       "      <td>Uplatz Training</td>\n",
       "      <td>11.0</td>\n",
       "      <td>17</td>\n",
       "      <td>All Levels</td>\n",
       "    </tr>\n",
       "    <tr>\n",
       "      <th>9899</th>\n",
       "      <td>reverse engineering and exploit development in...</td>\n",
       "      <td>computer architecture, file structure, assembl...</td>\n",
       "      <td>14.99</td>\n",
       "      <td>4.5</td>\n",
       "      <td>7</td>\n",
       "      <td>89.99</td>\n",
       "      <td>mohamad gharishvandi</td>\n",
       "      <td>16.5</td>\n",
       "      <td>136</td>\n",
       "      <td>All Levels</td>\n",
       "    </tr>\n",
       "  </tbody>\n",
       "</table>\n",
       "<p>7684 rows × 10 columns</p>\n",
       "</div>"
      ],
      "text/plain": [
       "                                                  title  \\\n",
       "0                    Learn Ethical Hacking From Scratch   \n",
       "1     Ultimate AWS Certified Solutions Architect Ass...   \n",
       "2     [NEW] Ultimate AWS Certified Cloud Practitione...   \n",
       "3           TOTAL: CompTIA A+ Certification (220-1001).   \n",
       "4     Ultimate AWS Certified Developer Associate 202...   \n",
       "...                                                 ...   \n",
       "9891                      Reverse Engineering Deep Dive   \n",
       "9892                        Achieving NSA level privacy   \n",
       "9896    Migrating a DFS-R Deployment to Azure File Sync   \n",
       "9897  Internet of Things (IoT) Fundamentals Certific...   \n",
       "9899  reverse engineering and exploit development in...   \n",
       "\n",
       "                                            description  price  rating  \\\n",
       "0     Become an ethical hacker that can hack compute...  17.99     4.6   \n",
       "1     Pass the AWS Certified Solutions Architect Ass...  15.99     4.7   \n",
       "2     Pass the Amazon Web Services Certified Cloud P...  14.99     4.7   \n",
       "3     Course 1: Everything you need to pass the A+ C...  20.99     4.7   \n",
       "4     Become an AWS Certified Developer! Learn all A...  14.99     4.7   \n",
       "...                                                 ...    ...     ...   \n",
       "9891  Deobfuscations, disassembly, shellcode analysi...  14.99     3.6   \n",
       "9892  This course will help you to be totally anonym...  14.99     5.0   \n",
       "9896  How to Deploy Azure File Sync and Migrate from...  14.99     4.5   \n",
       "9897  Become an IoT Engineer / Product Manager. Lear...  14.99     3.2   \n",
       "9899  computer architecture, file structure, assembl...  14.99     4.5   \n",
       "\n",
       "      reviews  discount               trainer  total_hours  total_lectures  \\\n",
       "0       98659     99.99            Zaid Sabih         15.5             143   \n",
       "1       95644     89.99       Stephane Maarek         27.0             368   \n",
       "2       61639     84.99       Stephane Maarek         14.0             252   \n",
       "3       48503    119.99        Total Seminars         17.5             131   \n",
       "4       47458     89.99       Stephane Maarek         32.5             428   \n",
       "...       ...       ...                   ...          ...             ...   \n",
       "9891        7     89.99  Cristina Gheorghisan          6.0              36   \n",
       "9892        7     49.99         Lakshay arora          1.0              16   \n",
       "9896        7     19.99       Thomas Mitchell          1.0              18   \n",
       "9897        7     19.99       Uplatz Training         11.0              17   \n",
       "9899        7     89.99  mohamad gharishvandi         16.5             136   \n",
       "\n",
       "             level  \n",
       "0       All Levels  \n",
       "1       All Levels  \n",
       "2         Beginner  \n",
       "3         Beginner  \n",
       "4       All Levels  \n",
       "...            ...  \n",
       "9891  Intermediate  \n",
       "9892    All Levels  \n",
       "9896  Intermediate  \n",
       "9897    All Levels  \n",
       "9899    All Levels  \n",
       "\n",
       "[7684 rows x 10 columns]"
      ]
     },
     "execution_count": 62,
     "metadata": {},
     "output_type": "execute_result"
    }
   ],
   "source": [
    "df"
   ]
  },
  {
   "cell_type": "code",
   "execution_count": null,
   "id": "f7b2f329",
   "metadata": {},
   "outputs": [],
   "source": []
  }
 ],
 "metadata": {
  "kernelspec": {
   "display_name": "Python 3",
   "language": "python",
   "name": "python3"
  },
  "language_info": {
   "codemirror_mode": {
    "name": "ipython",
    "version": 3
   },
   "file_extension": ".py",
   "mimetype": "text/x-python",
   "name": "python",
   "nbconvert_exporter": "python",
   "pygments_lexer": "ipython3",
   "version": "3.8.8"
  }
 },
 "nbformat": 4,
 "nbformat_minor": 5
}
