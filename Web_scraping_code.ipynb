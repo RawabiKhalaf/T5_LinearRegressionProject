{
 "cells": [
  {
   "cell_type": "markdown",
   "id": "37de871f",
   "metadata": {},
   "source": [
    "# Import packages "
   ]
  },
  {
   "cell_type": "code",
   "execution_count": 2,
   "id": "44ca5878",
   "metadata": {},
   "outputs": [],
   "source": [
    "from selenium import webdriver\n",
    "from bs4 import BeautifulSoup\n",
    "import requests\n",
    "import time \n",
    "import os\n",
    "import pandas as pd\n",
    "\n",
    "chromedriver = \"/Applications/chromedriver\"\n",
    "os.environ[\"webdriver.chrome.driver\"] = chromedriver"
   ]
  },
  {
   "cell_type": "code",
   "execution_count": 3,
   "id": "78b4cd1a",
   "metadata": {},
   "outputs": [],
   "source": [
    "url = 'https://www.udemy.com/courses/design/'\n",
    "page = requests.get(url).text\n",
    "soup = BeautifulSoup(page, 'lxml')\n",
    "driver = webdriver.Chrome(executable_path=chromedriver)\n",
    "driver.get(url)"
   ]
  },
  {
   "cell_type": "markdown",
   "id": "6ae776b1",
   "metadata": {},
   "source": [
    "# Perform web Scraping "
   ]
  },
  {
   "cell_type": "code",
   "execution_count": 4,
   "id": "cb8fa66f",
   "metadata": {},
   "outputs": [],
   "source": [
    "def extract_record(item):\n",
    "    try :\n",
    "        title = item.find('div',{'class':'udlite-focus-visible-target udlite-heading-md course-card--course-title--vVEjC'}).text\n",
    "    except :\n",
    "        title = None\n",
    "    try :\n",
    "        description = item.find('p',{'class':'udlite-text-sm course-card--course-headline--2DAqq'}).text\n",
    "    except :\n",
    "        description = None\n",
    "    try :\n",
    "        price = item.find('div', {'class':'price-text--price-part--2npPm course-card--discount-price--1bQ5Q udlite-heading-md'}).text \n",
    "    except :\n",
    "        price = None\n",
    "    try :\n",
    "        rating = item.find('span',{'class':'star-rating--star-wrapper--1QyBg'}).find('span').text\n",
    "    except :\n",
    "        rating = None\n",
    "    try :\n",
    "        reviews = item.find('span',{'class':'udlite-text-xs course-card--reviews-text--1yloi'}).text\n",
    "    except :\n",
    "        reviews = None\n",
    "    \n",
    "    if item.find('s') == None :\n",
    "        discount = None\n",
    "    else :\n",
    "        discount = item.find('s').find('span').text\n",
    "    try :\n",
    "        trainer = item.find('div',{'class':'udlite-text-xs course-card--instructor-list--nH1OC'}).text\n",
    "    except :\n",
    "        trainer = None\n",
    "    course_info = item.find('div',{'class':'udlite-text-xs course-card--row--29Y0w course-card--course-meta-info--2jTzN'}).find_all('span')\n",
    "    \n",
    "    if len(course_info) == 3 :\n",
    "        total_hours = course_info[0].text\n",
    "        total_lectures = course_info[1].text\n",
    "        level = course_info[2].text\n",
    "    else :\n",
    "        total_hours = None\n",
    "        total_lectures = None\n",
    "        try:\n",
    "            level = course_info[1].text\n",
    "        except :\n",
    "            level = None\n",
    "    \n",
    "    result = (title,description,price,rating,reviews,discount,trainer,total_hours,total_lectures,level) \n",
    "    \n",
    "    \n",
    "    return result"
   ]
  },
  {
   "cell_type": "code",
   "execution_count": 5,
   "id": "549535e3",
   "metadata": {
    "scrolled": false
   },
   "outputs": [],
   "source": [
    "def get_data() :\n",
    "    records=[]\n",
    "\n",
    "    for i in range(1,555):\n",
    "        url = 'https://www.udemy.com/courses/design/?p='+str(i)\n",
    "\n",
    "        print(url)\n",
    "        driver.get(url)\n",
    "        time.sleep(10)\n",
    "        soup = BeautifulSoup(driver.page_source, \"html5lib\")\n",
    "\n",
    "       \n",
    "        div = soup.find(class_='course-list--container--3zXPS')\n",
    "        results = div.find_all('a',{'class':'udlite-custom-focus-visible browse-course-card--link--3KIkQ'})\n",
    "        \n",
    "        \n",
    "        \n",
    "        for item in results:\n",
    "            records.append(extract_record(item))\n",
    "        time.sleep(5)\n",
    "        \n",
    "    return records\n",
    "    "
   ]
  },
  {
   "cell_type": "code",
   "execution_count": 6,
   "id": "b2c82a76",
   "metadata": {},
   "outputs": [
    {
     "name": "stdout",
     "output_type": "stream",
     "text": [
      "https://www.udemy.com/courses/design/?p=1\n"
     ]
    },
    {
     "ename": "AttributeError",
     "evalue": "'NoneType' object has no attribute 'find_all'",
     "output_type": "error",
     "traceback": [
      "\u001b[0;31m---------------------------------------------------------------------------\u001b[0m",
      "\u001b[0;31mAttributeError\u001b[0m                            Traceback (most recent call last)",
      "\u001b[0;32m<ipython-input-6-fdfb57cc3101>\u001b[0m in \u001b[0;36m<module>\u001b[0;34m\u001b[0m\n\u001b[0;32m----> 1\u001b[0;31m \u001b[0mrecords\u001b[0m \u001b[0;34m=\u001b[0m \u001b[0mget_data\u001b[0m\u001b[0;34m(\u001b[0m\u001b[0;34m)\u001b[0m\u001b[0;34m\u001b[0m\u001b[0;34m\u001b[0m\u001b[0m\n\u001b[0m",
      "\u001b[0;32m<ipython-input-5-fc04a9319730>\u001b[0m in \u001b[0;36mget_data\u001b[0;34m()\u001b[0m\n\u001b[1;32m     12\u001b[0m \u001b[0;34m\u001b[0m\u001b[0m\n\u001b[1;32m     13\u001b[0m         \u001b[0mdiv\u001b[0m \u001b[0;34m=\u001b[0m \u001b[0msoup\u001b[0m\u001b[0;34m.\u001b[0m\u001b[0mfind\u001b[0m\u001b[0;34m(\u001b[0m\u001b[0mclass_\u001b[0m\u001b[0;34m=\u001b[0m\u001b[0;34m'course-list--container--3zXPS'\u001b[0m\u001b[0;34m)\u001b[0m\u001b[0;34m\u001b[0m\u001b[0;34m\u001b[0m\u001b[0m\n\u001b[0;32m---> 14\u001b[0;31m         \u001b[0mresults\u001b[0m \u001b[0;34m=\u001b[0m \u001b[0mdiv\u001b[0m\u001b[0;34m.\u001b[0m\u001b[0mfind_all\u001b[0m\u001b[0;34m(\u001b[0m\u001b[0;34m'a'\u001b[0m\u001b[0;34m,\u001b[0m\u001b[0;34m{\u001b[0m\u001b[0;34m'class'\u001b[0m\u001b[0;34m:\u001b[0m\u001b[0;34m'udlite-custom-focus-visible browse-course-card--link--3KIkQ'\u001b[0m\u001b[0;34m}\u001b[0m\u001b[0;34m)\u001b[0m\u001b[0;34m\u001b[0m\u001b[0;34m\u001b[0m\u001b[0m\n\u001b[0m\u001b[1;32m     15\u001b[0m \u001b[0;34m\u001b[0m\u001b[0m\n\u001b[1;32m     16\u001b[0m \u001b[0;34m\u001b[0m\u001b[0m\n",
      "\u001b[0;31mAttributeError\u001b[0m: 'NoneType' object has no attribute 'find_all'"
     ]
    }
   ],
   "source": [
    "records = get_data()"
   ]
  },
  {
   "cell_type": "markdown",
   "id": "30b0bfac",
   "metadata": {},
   "source": [
    "# Definig the data frame "
   ]
  },
  {
   "cell_type": "code",
   "execution_count": null,
   "id": "733b7a9e",
   "metadata": {},
   "outputs": [],
   "source": [
    "df = pd.DataFrame(records, columns=['title','description','price','rating','reviews',\n",
    "                                    'discount','trainer','total_hours','total_lectures',\n",
    "                                    'level'])"
   ]
  },
  {
   "cell_type": "code",
   "execution_count": null,
   "id": "8ee9f623",
   "metadata": {
    "scrolled": true
   },
   "outputs": [],
   "source": [
    "df.info()"
   ]
  },
  {
   "cell_type": "code",
   "execution_count": null,
   "id": "e9c76888",
   "metadata": {},
   "outputs": [],
   "source": [
    "df.to_csv('udemy_development_data_9k.csv')"
   ]
  },
  {
   "cell_type": "markdown",
   "id": "1810dac5",
   "metadata": {},
   "source": [
    "# Data cleaning "
   ]
  },
  {
   "cell_type": "code",
   "execution_count": null,
   "id": "702540f5",
   "metadata": {},
   "outputs": [],
   "source": [
    "df.columns"
   ]
  },
  {
   "cell_type": "code",
   "execution_count": null,
   "id": "abb60111",
   "metadata": {},
   "outputs": [],
   "source": [
    "df.drop(columns=\"Unnamed: 0\",inplace=True)"
   ]
  },
  {
   "cell_type": "code",
   "execution_count": null,
   "id": "181c5b34",
   "metadata": {
    "scrolled": true
   },
   "outputs": [],
   "source": [
    "df.info()"
   ]
  },
  {
   "cell_type": "code",
   "execution_count": null,
   "id": "8f45c193",
   "metadata": {
    "scrolled": false
   },
   "outputs": [],
   "source": [
    "df.dropna(subset =['description','total_hours','total_lectures'], inplace=True)"
   ]
  },
  {
   "cell_type": "code",
   "execution_count": null,
   "id": "e722c353",
   "metadata": {},
   "outputs": [],
   "source": [
    "df.info()"
   ]
  },
  {
   "cell_type": "code",
   "execution_count": null,
   "id": "87f13c04",
   "metadata": {},
   "outputs": [],
   "source": [
    "df.trainer = df.trainer.str.replace(',','')"
   ]
  },
  {
   "cell_type": "code",
   "execution_count": null,
   "id": "f971d505",
   "metadata": {},
   "outputs": [],
   "source": [
    "df.trainer = df.trainer.str.split().str[0] +' '+ df.trainer.str.split().str[1]"
   ]
  },
  {
   "cell_type": "code",
   "execution_count": null,
   "id": "db1b3aca",
   "metadata": {},
   "outputs": [],
   "source": [
    "import re\n",
    "def find_number(text):\n",
    "    num = re.findall(r'[0-9]+',text)\n",
    "    return \"\".join(num)\n",
    "def find_rating(text):\n",
    "    num = re.findall(r'[0-9]+',text)\n",
    "    num.pop()\n",
    "    return \".\".join(num)"
   ]
  },
  {
   "cell_type": "code",
   "execution_count": null,
   "id": "90a9651e",
   "metadata": {},
   "outputs": [],
   "source": [
    "df.reviews = df['reviews'].apply(lambda x: find_number(x)).astype(int)"
   ]
  },
  {
   "cell_type": "code",
   "execution_count": null,
   "id": "9babfb05",
   "metadata": {},
   "outputs": [],
   "source": [
    "df.rating = df['rating'].apply(lambda x: find_rating(x)).astype(float)"
   ]
  },
  {
   "cell_type": "code",
   "execution_count": null,
   "id": "47c5e95e",
   "metadata": {},
   "outputs": [],
   "source": [
    "df.total_hours = df['total_hours'].str.extract(r'(\\d+.\\d*)').astype('float')"
   ]
  },
  {
   "cell_type": "code",
   "execution_count": null,
   "id": "963fcf49",
   "metadata": {},
   "outputs": [],
   "source": [
    "df.discount = df['discount'].str.extract(r'(\\d+.\\d*)').astype('float')"
   ]
  },
  {
   "cell_type": "code",
   "execution_count": null,
   "id": "754dae8f",
   "metadata": {},
   "outputs": [],
   "source": [
    "df.total_lectures = df['total_lectures'].apply(lambda x: find_number(x)).astype(int)"
   ]
  },
  {
   "cell_type": "code",
   "execution_count": null,
   "id": "6437ac54",
   "metadata": {},
   "outputs": [],
   "source": [
    "df.price = df['price'].str.extract(r'(\\d+.\\d*)').astype('float')"
   ]
  },
  {
   "cell_type": "code",
   "execution_count": null,
   "id": "826c3561",
   "metadata": {},
   "outputs": [],
   "source": [
    "df.level.unique()"
   ]
  },
  {
   "cell_type": "code",
   "execution_count": null,
   "id": "95273dc5",
   "metadata": {},
   "outputs": [],
   "source": [
    "df.to_csv('cleaned_udemy_data_9k.csv')"
   ]
  },
  {
   "cell_type": "code",
   "execution_count": null,
   "id": "b0159aa1",
   "metadata": {
    "scrolled": false
   },
   "outputs": [],
   "source": [
    "df.info()"
   ]
  },
  {
   "cell_type": "code",
   "execution_count": null,
   "id": "8b8ff4ec",
   "metadata": {},
   "outputs": [],
   "source": [
    "df['price'].fillna((df['price'].mean()), inplace=True)"
   ]
  },
  {
   "cell_type": "code",
   "execution_count": null,
   "id": "f6d2c00d",
   "metadata": {},
   "outputs": [],
   "source": [
    "df['discount'].fillna((df['discount'].mean()), inplace=True)"
   ]
  },
  {
   "cell_type": "code",
   "execution_count": null,
   "id": "164be193",
   "metadata": {},
   "outputs": [],
   "source": [
    "df.info()"
   ]
  },
  {
   "cell_type": "code",
   "execution_count": null,
   "id": "11b28b31",
   "metadata": {},
   "outputs": [],
   "source": [
    "df.to_csv('cleaned_udemy_data_9k_v3.csv')"
   ]
  },
  {
   "cell_type": "markdown",
   "id": "c94672eb",
   "metadata": {},
   "source": [
    "# Visualization"
   ]
  },
  {
   "cell_type": "code",
   "execution_count": null,
   "id": "f7b2f329",
   "metadata": {},
   "outputs": [],
   "source": [
    "import seaborn as sns"
   ]
  },
  {
   "cell_type": "code",
   "execution_count": null,
   "id": "e58999a7",
   "metadata": {},
   "outputs": [],
   "source": [
    "sns.pairplot(df)"
   ]
  },
  {
   "cell_type": "code",
   "execution_count": null,
   "id": "558b251e",
   "metadata": {},
   "outputs": [],
   "source": []
  }
 ],
 "metadata": {
  "kernelspec": {
   "display_name": "Python 3",
   "language": "python",
   "name": "python3"
  },
  "language_info": {
   "codemirror_mode": {
    "name": "ipython",
    "version": 3
   },
   "file_extension": ".py",
   "mimetype": "text/x-python",
   "name": "python",
   "nbconvert_exporter": "python",
   "pygments_lexer": "ipython3",
   "version": "3.8.8"
  }
 },
 "nbformat": 4,
 "nbformat_minor": 5
}
